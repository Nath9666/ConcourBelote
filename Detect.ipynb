{
 "cells": [
  {
   "cell_type": "code",
   "execution_count": 18,
   "metadata": {},
   "outputs": [],
   "source": [
    "import joblib\n",
    "import cv2\n",
    "import pandas as pd\n",
    "from tensorflow.keras.models import load_model\n",
    "import matplotlib.pyplot as plt"
   ]
  },
  {
   "cell_type": "markdown",
   "metadata": {},
   "source": [
    "# Test pour le SVC"
   ]
  },
  {
   "cell_type": "code",
   "execution_count": 19,
   "metadata": {},
   "outputs": [],
   "source": [
    "\n",
    "def detect_digits(image_path):\n",
    "    img = cv2.imread(image_path)\n",
    "    gray = cv2.cvtColor(img, cv2.COLOR_BGR2GRAY)\n",
    "    blurred = cv2.GaussianBlur(gray, (5, 5), 0)\n",
    "    edged = cv2.Canny(blurred, 30, 150)\n",
    "    contours, _ = cv2.findContours(edged.copy(), cv2.RETR_EXTERNAL, cv2.CHAIN_APPROX_SIMPLE)\n",
    "    digits_rois = []\n",
    "    for c in contours:\n",
    "        (x, y, w, h) = cv2.boundingRect(c)\n",
    "        if w >= 5 and h >= 25:\n",
    "            roi = gray[y:y + h, x:x + w]\n",
    "            digits_rois.append((x, y, w, h, roi))\n",
    "    return img, digits_rois\n",
    "\n",
    "def square(img, digits_roi):\n",
    "    for (x, y, w, h, _) in digits_roi:\n",
    "        cv2.rectangle(img, (x, y), (x + w, y + h), (255, 0, 0), 2)\n",
    "    return img\n",
    "    \n",
    "\n",
    "def recognize_digits(img, digits_rois, model):\n",
    "    digits = []\n",
    "    for (x, y, w, h, roi) in digits_rois:\n",
    "        roi = cv2.resize(roi, (28, 28), interpolation=cv2.INTER_AREA)\n",
    "        roi = roi / 255.0  # Normalisation simple\n",
    "        roi = roi.reshape(1, 28*28)  # Aplatir l'image pour correspondre à l'entrée du modèle\n",
    "\n",
    "        # Utiliser les noms de caractéristiques corrects\n",
    "        feature_names = [f'pixel{i}' for i in range(1, 28*28 + 1)]\n",
    "        roi_df = pd.DataFrame(roi, columns=feature_names)\n",
    "\n",
    "        digit = model.predict(roi_df)\n",
    "        probabilities = model.predict_proba(roi_df)[0]\n",
    "        print(f\"Digit: {digit[0]}, Probabilities: {probabilities}\")\n",
    "\n",
    "        digit = digit[0]  # Obtenir la prédiction réelle à partir du résultat\n",
    "        digits.append((x, y, digit, probabilities))\n",
    "        cv2.putText(img, str(digit), (x, y - 5), cv2.FONT_HERSHEY_SIMPLEX, 2, (0, 255, 0), 2)\n",
    "    \n",
    "    # Utiliser matplotlib pour afficher l'image\n",
    "    plt.imshow(cv2.cvtColor(img, cv2.COLOR_BGR2RGB))\n",
    "    plt.title(\"Digits Recognized\")\n",
    "    plt.axis('off')\n",
    "    plt.show()\n",
    "    \n",
    "    return digits\n"
   ]
  },
  {
   "cell_type": "code",
   "execution_count": 20,
   "metadata": {},
   "outputs": [
    {
     "name": "stdout",
     "output_type": "stream",
     "text": [
      "[(464, 183, 132, 631, array([[0, 0, 0, ..., 0, 0, 0],\n",
      "       [0, 0, 0, ..., 0, 0, 0],\n",
      "       [0, 0, 0, ..., 0, 0, 0],\n",
      "       ...,\n",
      "       [0, 0, 0, ..., 0, 0, 0],\n",
      "       [0, 0, 0, ..., 0, 0, 0],\n",
      "       [0, 0, 0, ..., 0, 0, 0]], dtype=uint8))]\n"
     ]
    }
   ],
   "source": [
    "image_path = './data/1_.png'\n",
    "img, digits_rois = detect_digits(image_path)\n",
    "img = square(img, digits_rois)\n",
    "print(digits_rois)"
   ]
  },
  {
   "cell_type": "code",
   "execution_count": 21,
   "metadata": {},
   "outputs": [
    {
     "name": "stdout",
     "output_type": "stream",
     "text": [
      "Digit: 2, Probabilities: [0.05019048 0.0077936  0.52512102 0.09966201 0.01542108 0.11490605\n",
      " 0.05120658 0.04213432 0.06709271 0.02647215]\n"
     ]
    },
    {
     "name": "stderr",
     "output_type": "stream",
     "text": [
      "c:\\Python311\\Lib\\site-packages\\sklearn\\base.py:486: UserWarning: X has feature names, but MinMaxScaler was fitted without feature names\n",
      "  warnings.warn(\n",
      "c:\\Python311\\Lib\\site-packages\\sklearn\\base.py:486: UserWarning: X has feature names, but MinMaxScaler was fitted without feature names\n",
      "  warnings.warn(\n"
     ]
    },
    {
     "data": {
      "image/png": "[encoded data removed]",
      "text/plain": [
       "<Figure size 640x480 with 1 Axes>"
      ]
     },
     "metadata": {},
     "output_type": "display_data"
    },
    {
     "name": "stdout",
     "output_type": "stream",
     "text": [
      "[(464, 183, '2', array([0.05019048, 0.0077936 , 0.52512102, 0.09966201, 0.01542108,\n",
      "       0.11490605, 0.05120658, 0.04213432, 0.06709271, 0.02647215]))]\n"
     ]
    }
   ],
   "source": [
    "model = joblib.load('./models/DetectionReconize_optimized2.pkl')\n",
    "digits = recognize_digits(img, digits_rois, model)\n",
    "print(digits)"
   ]
  },
  {
   "cell_type": "markdown",
   "metadata": {},
   "source": [
    "# Test pour le CNN"
   ]
  },
  {
   "cell_type": "code",
   "execution_count": 22,
   "metadata": {},
   "outputs": [],
   "source": [
    "import cv2\n",
    "import matplotlib.pyplot as plt\n",
    "\n",
    "def recognize_digits_cnn(img, digits_rois, model):\n",
    "    digits = []\n",
    "    for (x, y, w, h, roi) in digits_rois:\n",
    "        roi = cv2.resize(roi, (28, 28), interpolation=cv2.INTER_AREA)\n",
    "        roi = roi / 255.0  # Normalisation simple\n",
    "        roi = roi.reshape(1, 28, 28, 1)  # Reshape pour correspondre à l'entrée du modèle CNN (batch_size, height, width, channels)\n",
    "\n",
    "        digit = model.predict(roi)\n",
    "        digit_class = digit.argmax()  # Obtenir la prédiction réelle à partir du résultat\n",
    "        probabilities = digit[0]  # Obtenir les probabilités\n",
    "\n",
    "        digits.append((x, y, digit_class, probabilities))\n",
    "        cv2.putText(img, str(digit_class), (x, y - 5), cv2.FONT_HERSHEY_SIMPLEX, 2, (0, 255, 0), 2)\n",
    "    \n",
    "    # Utiliser matplotlib pour afficher l'image\n",
    "    plt.imshow(cv2.cvtColor(img, cv2.COLOR_BGR2RGB))\n",
    "    plt.title(\"Digits Recognized\")\n",
    "    plt.axis('off')\n",
    "    plt.show()\n",
    "    \n",
    "    return digits"
   ]
  },
  {
   "cell_type": "code",
   "execution_count": 23,
   "metadata": {},
   "outputs": [
    {
     "name": "stderr",
     "output_type": "stream",
     "text": [
      "WARNING:absl:Compiled the loaded model, but the compiled metrics have yet to be built. `model.compile_metrics` will be empty until you train or evaluate the model.\n"
     ]
    },
    {
     "name": "stdout",
     "output_type": "stream",
     "text": [
      "\u001b[1m1/1\u001b[0m \u001b[32m━━━━━━━━━━━━━━━━━━━━\u001b[0m\u001b[37m\u001b[0m \u001b[1m0s\u001b[0m 44ms/step\n"
     ]
    },
    {
     "data": {
      "image/png": "[encoded data removed]",
      "text/plain": [
       "<Figure size 640x480 with 1 Axes>"
      ]
     },
     "metadata": {},
     "output_type": "display_data"
    },
    {
     "name": "stdout",
     "output_type": "stream",
     "text": [
      "[(464, 183, 0, array([0.8654794 , 0.00225548, 0.00354571, 0.00219552, 0.02073413,\n",
      "       0.00446359, 0.03090764, 0.00912645, 0.01373307, 0.04755906],\n",
      "      dtype=float32))]\n"
     ]
    }
   ],
   "source": [
    "model_CNN = load_model('./models/DetectionReconize_CNN.h5') # Utiliser load_model pour le modèle CNN\n",
    "image_path = './data/1_.png'\n",
    "img, digits_rois = detect_digits(image_path)  \n",
    "digits_Cnn = recognize_digits_cnn(img, digits_rois, model_CNN)\n",
    "\n",
    "print(digits_Cnn)"
   ]
  }
 ],
 "metadata": {
  "kernelspec": {
   "display_name": "Python 3",
   "language": "python",
   "name": "python3"
  },
  "language_info": {
   "codemirror_mode": {
    "name": "ipython",
    "version": 3
   },
   "file_extension": ".py",
   "mimetype": "text/x-python",
   "name": "python",
   "nbconvert_exporter": "python",
   "pygments_lexer": "ipython3",
   "version": "3.11.0"
  }
 },
 "nbformat": 4,
 "nbformat_minor": 2
}
